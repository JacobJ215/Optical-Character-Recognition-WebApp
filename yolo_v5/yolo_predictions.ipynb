version https://git-lfs.github.com/spec/v1
oid sha256:db6a8d31269c112b29d5e3d42a9153274b7d51499717c9f9fdb371f83fae3dc9
size 422723
