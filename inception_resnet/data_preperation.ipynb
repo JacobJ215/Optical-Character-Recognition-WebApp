{
 "cells": [
  {
   "cell_type": "markdown",
   "metadata": {},
   "source": [
    "# Data Preperation"
   ]
  },
  {
   "cell_type": "markdown",
   "metadata": {},
   "source": [
    "#### Import Libraries"
   ]
  },
  {
   "cell_type": "code",
   "execution_count": 1,
   "metadata": {},
   "outputs": [],
   "source": [
    "import pandas as pd\n",
    "import xml.etree.ElementTree as xet\n",
    "from glob import glob"
   ]
  },
  {
   "cell_type": "code",
   "execution_count": 3,
   "metadata": {},
   "outputs": [],
   "source": [
    "# Import the glob module to search for files that match a specified pattern\n",
    "from glob import glob\n",
    "\n",
    "# Use the glob function to find all XML files in the ../images directory\n",
    "path = sorted(glob('../images/*.xml'))\n",
    "\n",
    "# Create an empty dictionary to store the label information\n",
    "labels_dict = dict(filepath=[], xmin=[], xmax=[], ymin=[], ymax=[])\n",
    "\n",
    "# Loop through each XML file in the path\n",
    "for filename in path:\n",
    "    # Parse the XML file using the ElementTree module\n",
    "    info = xet.parse(filename)\n",
    "    root = info.getroot()\n",
    "    \n",
    "    # Find the 'object' and 'bndbox' elements in the XML tree\n",
    "    member_object = root.find('object')\n",
    "    labels_info = member_object.find('bndbox')\n",
    "    \n",
    "    # Extract the label information from the 'bndbox' element and convert to integers\n",
    "    xmin = int(labels_info.find('xmin').text)\n",
    "    xmax = int(labels_info.find('xmax').text)\n",
    "    ymin = int(labels_info.find('ymin').text)\n",
    "    ymax = int(labels_info.find('ymax').text)\n",
    "\n",
    "    # Add the label information to the dictionary\n",
    "    labels_dict['filepath'].append(filename)\n",
    "    labels_dict['xmin'].append(xmin)\n",
    "    labels_dict['xmax'].append(xmax)\n",
    "    labels_dict['ymin'].append(ymin)\n",
    "    labels_dict['ymax'].append(ymax)\n"
   ]
  },
  {
   "cell_type": "code",
   "execution_count": 6,
   "metadata": {},
   "outputs": [
    {
     "data": {
      "text/html": [
       "<div>\n",
       "<style scoped>\n",
       "    .dataframe tbody tr th:only-of-type {\n",
       "        vertical-align: middle;\n",
       "    }\n",
       "\n",
       "    .dataframe tbody tr th {\n",
       "        vertical-align: top;\n",
       "    }\n",
       "\n",
       "    .dataframe thead th {\n",
       "        text-align: right;\n",
       "    }\n",
       "</style>\n",
       "<table border=\"1\" class=\"dataframe\">\n",
       "  <thead>\n",
       "    <tr style=\"text-align: right;\">\n",
       "      <th></th>\n",
       "      <th>filepath</th>\n",
       "      <th>xmin</th>\n",
       "      <th>xmax</th>\n",
       "      <th>ymin</th>\n",
       "      <th>ymax</th>\n",
       "    </tr>\n",
       "  </thead>\n",
       "  <tbody>\n",
       "    <tr>\n",
       "      <th>0</th>\n",
       "      <td>../images/01.xml</td>\n",
       "      <td>79</td>\n",
       "      <td>267</td>\n",
       "      <td>111</td>\n",
       "      <td>156</td>\n",
       "    </tr>\n",
       "    <tr>\n",
       "      <th>1</th>\n",
       "      <td>../images/02.xml</td>\n",
       "      <td>508</td>\n",
       "      <td>926</td>\n",
       "      <td>343</td>\n",
       "      <td>503</td>\n",
       "    </tr>\n",
       "    <tr>\n",
       "      <th>2</th>\n",
       "      <td>../images/03.xml</td>\n",
       "      <td>68</td>\n",
       "      <td>335</td>\n",
       "      <td>94</td>\n",
       "      <td>152</td>\n",
       "    </tr>\n",
       "    <tr>\n",
       "      <th>3</th>\n",
       "      <td>../images/04.xml</td>\n",
       "      <td>113</td>\n",
       "      <td>208</td>\n",
       "      <td>86</td>\n",
       "      <td>110</td>\n",
       "    </tr>\n",
       "    <tr>\n",
       "      <th>4</th>\n",
       "      <td>../images/05.xml</td>\n",
       "      <td>40</td>\n",
       "      <td>164</td>\n",
       "      <td>128</td>\n",
       "      <td>192</td>\n",
       "    </tr>\n",
       "    <tr>\n",
       "      <th>...</th>\n",
       "      <td>...</td>\n",
       "      <td>...</td>\n",
       "      <td>...</td>\n",
       "      <td>...</td>\n",
       "      <td>...</td>\n",
       "    </tr>\n",
       "    <tr>\n",
       "      <th>464</th>\n",
       "      <td>../images/95.xml</td>\n",
       "      <td>56</td>\n",
       "      <td>213</td>\n",
       "      <td>108</td>\n",
       "      <td>178</td>\n",
       "    </tr>\n",
       "    <tr>\n",
       "      <th>465</th>\n",
       "      <td>../images/96.xml</td>\n",
       "      <td>60</td>\n",
       "      <td>165</td>\n",
       "      <td>103</td>\n",
       "      <td>136</td>\n",
       "    </tr>\n",
       "    <tr>\n",
       "      <th>466</th>\n",
       "      <td>../images/97.xml</td>\n",
       "      <td>90</td>\n",
       "      <td>213</td>\n",
       "      <td>98</td>\n",
       "      <td>128</td>\n",
       "    </tr>\n",
       "    <tr>\n",
       "      <th>467</th>\n",
       "      <td>../images/98.xml</td>\n",
       "      <td>31</td>\n",
       "      <td>232</td>\n",
       "      <td>47</td>\n",
       "      <td>141</td>\n",
       "    </tr>\n",
       "    <tr>\n",
       "      <th>468</th>\n",
       "      <td>../images/99.xml</td>\n",
       "      <td>32</td>\n",
       "      <td>239</td>\n",
       "      <td>60</td>\n",
       "      <td>113</td>\n",
       "    </tr>\n",
       "  </tbody>\n",
       "</table>\n",
       "<p>469 rows × 5 columns</p>\n",
       "</div>"
      ],
      "text/plain": [
       "             filepath  xmin  xmax  ymin  ymax\n",
       "0    ../images/01.xml    79   267   111   156\n",
       "1    ../images/02.xml   508   926   343   503\n",
       "2    ../images/03.xml    68   335    94   152\n",
       "3    ../images/04.xml   113   208    86   110\n",
       "4    ../images/05.xml    40   164   128   192\n",
       "..                ...   ...   ...   ...   ...\n",
       "464  ../images/95.xml    56   213   108   178\n",
       "465  ../images/96.xml    60   165   103   136\n",
       "466  ../images/97.xml    90   213    98   128\n",
       "467  ../images/98.xml    31   232    47   141\n",
       "468  ../images/99.xml    32   239    60   113\n",
       "\n",
       "[469 rows x 5 columns]"
      ]
     },
     "execution_count": 6,
     "metadata": {},
     "output_type": "execute_result"
    }
   ],
   "source": [
    "# Store values in a dataframe\n",
    "df = pd.DataFrame(labels_dict)\n",
    "df"
   ]
  },
  {
   "cell_type": "code",
   "execution_count": 7,
   "metadata": {},
   "outputs": [],
   "source": [
    "# Export as csv\n",
    "df.to_csv('lables.csv', index=False)"
   ]
  },
  {
   "cell_type": "code",
   "execution_count": null,
   "metadata": {},
   "outputs": [],
   "source": []
  }
 ],
 "metadata": {
  "kernelspec": {
   "display_name": "Python 3.8.13 ('mlenv')",
   "language": "python",
   "name": "python3"
  },
  "language_info": {
   "codemirror_mode": {
    "name": "ipython",
    "version": 3
   },
   "file_extension": ".py",
   "mimetype": "text/x-python",
   "name": "python",
   "nbconvert_exporter": "python",
   "pygments_lexer": "ipython3",
   "version": "3.8.13"
  },
  "orig_nbformat": 4,
  "vscode": {
   "interpreter": {
    "hash": "b70179fab6876b7c595114bbc672b8e83584a7ba0b944e182b5db9aa757417c5"
   }
  }
 },
 "nbformat": 4,
 "nbformat_minor": 2
}
